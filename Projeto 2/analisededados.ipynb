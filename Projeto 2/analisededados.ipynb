{
 "cells": [
  {
   "cell_type": "code",
   "execution_count": null,
   "metadata": {},
   "outputs": [],
   "source": [
    "# Passo 1: Pegar/Importar a base de dados\n",
    "import pandas as pd\n",
    "\n",
    "tabela = pd.read_csv(\"clientes.csv\", encoding=\"latin\", sep=\";\")\n",
    "tabela = tabela.drop(\"Unnamed: 8\", axis=1)\n",
    "# Passo 2: Visualizar a Base de Dados\n",
    "    # Entender as informações que você tem disponivel\n",
    "    # Procurar as cagadas da base de dados\n",
    "print(tabela)"
   ]
  },
  {
   "cell_type": "code",
   "execution_count": null,
   "metadata": {},
   "outputs": [],
   "source": [
    "# Passo 3: Tratamento de dados\n",
    "tabela[\"Salario Anual (R$)\"] = pd.to_numeric(tabela[\"Salario Anual (R$)\"], errors=\"coerce\")\n",
    "\n",
    "tabela = tabela.dropna()\n",
    "print(tabela.info())"
   ]
  },
  {
   "cell_type": "code",
   "execution_count": null,
   "metadata": {},
   "outputs": [],
   "source": [
    "# Passo 4: Analise Inicial = entender como estão as notas dos clientes\n",
    "print(tabela.describe())"
   ]
  },
  {
   "cell_type": "code",
   "execution_count": null,
   "metadata": {},
   "outputs": [],
   "source": [
    "import plotly.express as px\n",
    "\n",
    "# Passo 5: Analise Completa = Traçar o perfil ideal de clientes e entender como cada características do cliente\n",
    "for coluna in tabela.columns:\n",
    "    grafico = px.histogram(tabela, x=coluna, y=\"Nota (1-100)\", histfunc=\"avg\", text_auto=True, nbins=10)\n",
    "    grafico.show()"
   ]
  }
 ],
 "metadata": {
  "kernelspec": {
   "display_name": "Python 3",
   "language": "python",
   "name": "python3"
  },
  "language_info": {
   "name": "python",
   "version": "3.10.8"
  },
  "orig_nbformat": 4
 },
 "nbformat": 4,
 "nbformat_minor": 2
}
